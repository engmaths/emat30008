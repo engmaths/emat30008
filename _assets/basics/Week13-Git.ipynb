{
 "cells": [
  {
   "cell_type": "markdown",
   "id": "d298e3ac",
   "metadata": {
    "slideshow": {
     "slide_type": "slide"
    }
   },
   "source": [
    "# Scientific Computing\n",
    "\n",
    "\n",
    "## Week 13: Review of version control with git and GitHub\n",
    "\n",
    "### Matthew Hennessy\n",
    "\n",
    "* * *\n",
    "\n",
    "<img src=\"UoB.png\" alt=\"Bristol\" style=\"width: 300px;\"/>"
   ]
  },
  {
   "cell_type": "markdown",
   "id": "e3c8e0fe",
   "metadata": {
    "slideshow": {
     "slide_type": "slide"
    }
   },
   "source": [
    "# Overview\n",
    "\n",
    "* Provide a recap of version control with git and GitHub\n",
    "* See EMAT10006 Further Computer Programming notes for more detail"
   ]
  },
  {
   "cell_type": "markdown",
   "id": "e6365ab8",
   "metadata": {
    "slideshow": {
     "slide_type": "slide"
    }
   },
   "source": [
    "# What is git?\n",
    "\n",
    "* `git` is a program that is used for **version control**\n",
    "* Version control is a way of systematically keeping track of your code by creating a history of edits, additions/deletions, etc\n",
    "* You can compare files saved at different times, undo changes, store multiple versions of code\n",
    "* You can host your code repository on an external server so it can be accessed in different places\n",
    "* You can share a code repository and collaborate with others on it"
   ]
  },
  {
   "cell_type": "markdown",
   "id": "2ec61d9b",
   "metadata": {
    "slideshow": {
     "slide_type": "slide"
    }
   },
   "source": [
    "# Using `git`\n",
    "\n",
    "1. Create a new folder on your computer\n",
    "2. Using a terminal (e.g. Git CMD on Windows), `cd` in the command line to navigate into this folder\n",
    "3. Use `git init` to create a git repository in this folder and start tracking files\n",
    "4. Create/edit files in this directory\n",
    "5. Use `git add` to add files/changes to the repository.  `git` will keep track of these files\n",
    "6. Use `git commit -m \"meaningful message\"` to save a snapshot of current state of the repository with a meaningful message\n",
    "7. Go to step 3 and repeat\n"
   ]
  },
  {
   "cell_type": "markdown",
   "id": "488c5f82",
   "metadata": {},
   "source": [
    "# More git functionality\n",
    "\n",
    "* `git status` shows the current status of the repository\n",
    "* `git log` shows the log of all commits\n",
    "* `git diff <file>` allows the current version of a file to be compared against the version in the last commit\n",
    "* `git blame <file>` shows what revision and author last modified each line of a file"
   ]
  },
  {
   "cell_type": "markdown",
   "id": "32df8b01",
   "metadata": {
    "slideshow": {
     "slide_type": "slide"
    }
   },
   "source": [
    "# GitHub\n",
    "\n",
    "* GitHub is a website that provides free hosting of git repositories\n",
    "* We will be using GitHub in this unit, so please create a GitHub account now if you have not done so already"
   ]
  },
  {
   "cell_type": "markdown",
   "id": "3408652e",
   "metadata": {
    "slideshow": {
     "slide_type": "slide"
    }
   },
   "source": [
    "# Using `git` and GitHub (version 1)\n",
    "\n",
    "To use GitHub to host a repository that you've **already created** on your computer:\n",
    "1. Log into the GitHub website and create a new repository\n",
    "2. Using a terminal, `cd` into the folder on your computer with the repository.\n",
    "2. Use the `git remote add origin ...` commands given by GitHub to link your local repository to your newly created GitHub repository\n",
    "3. Use `git add` and `git commit` to update your repository\n",
    "3. Run `git push -u origin master` to upload your files to GitHub\n",
    "5. Edit code, add commits, then use `git push` to upload\n",
    "\n",
    "If the files on your computer are out of date and the files on GutHub are the most recent, then use `git pull` to download the files to your computer"
   ]
  },
  {
   "cell_type": "markdown",
   "id": "04e3c75e",
   "metadata": {
    "slideshow": {
     "slide_type": "slide"
    }
   },
   "source": [
    "# Using `git` and GitHub (version 2)\n",
    "\n",
    "To use git and GitHub with a repository that you **have not yet created** on your computer:\n",
    "\n",
    "1. Log into the GitHub website and create a new repository\n",
    "2. Using a terminal, `cd` into the folder where you want the repository to be stored\n",
    "2. Use `git clone ...` along with the link provided by GutHub to copy the repository to your computer \n",
    "3. Use `git add` and `git commit` to update your repository\n",
    "3. Run `git push -u origin master` to upload your files to GitHub\n",
    "5. Edit code, add commits, then use `git push` to upload\n",
    "\n",
    "If the files on your computer are out of date and the files on GutHub are the most recent, then use `git pull` to download the files to your computer\n"
   ]
  },
  {
   "cell_type": "markdown",
   "id": "a4b5af45",
   "metadata": {
    "slideshow": {
     "slide_type": "slide"
    }
   },
   "source": [
    "# Further resources:\n",
    "\n",
    "* Video of using git and GitHub; see unit website\n",
    "* EMAT10006 notes\n",
    "* Plenty of tutorials can be found online "
   ]
  }
 ],
 "metadata": {
  "celltoolbar": "Slideshow",
  "kernelspec": {
   "display_name": "Python 3",
   "language": "python",
   "name": "python3"
  },
  "language_info": {
   "codemirror_mode": {
    "name": "ipython",
    "version": 3
   },
   "file_extension": ".py",
   "mimetype": "text/x-python",
   "name": "python",
   "nbconvert_exporter": "python",
   "pygments_lexer": "ipython3",
   "version": "3.8.8"
  }
 },
 "nbformat": 4,
 "nbformat_minor": 5
}
