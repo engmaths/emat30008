{
 "cells": [
  {
   "cell_type": "markdown",
   "metadata": {
    "slideshow": {
     "slide_type": "slide"
    }
   },
   "source": [
    "# Scientific Computing\n",
    "\n",
    "\n",
    "\n",
    "## Week 13: Review of Python\n",
    "\n",
    "### Matthew Hennessy\n",
    "\n",
    "* * *\n",
    "\n",
    "<img src=\"UoB.png\" alt=\"Bristol\" style=\"width: 300px;\"/>"
   ]
  },
  {
   "cell_type": "markdown",
   "metadata": {
    "slideshow": {
     "slide_type": "slide"
    }
   },
   "source": [
    "# Structure of slides\n",
    "\n",
    "* To provide an overview of **core** Python functionality and programming techniques\n",
    "* Refresh your memory of Python syntax\n",
    "* Not exhaustive!  Please see EMAT10007 material for full details"
   ]
  },
  {
   "cell_type": "markdown",
   "metadata": {
    "slideshow": {
     "slide_type": "slide"
    }
   },
   "source": [
    "# Basic variable types\n",
    "\n",
    "* **Ints**:  integers; e.g. a = 2\n",
    "* **Floats**: floating-point numbers with decimals; e.g. a = 2.0\n",
    "* **Strings**: collection of characters contained in single or double quotes; individual characters can be accessed using an index (starting at 0)"
   ]
  },
  {
   "cell_type": "code",
   "execution_count": 3,
   "metadata": {
    "slideshow": {
     "slide_type": "fragment"
    }
   },
   "outputs": [
    {
     "name": "stdout",
     "output_type": "stream",
     "text": [
      "h\n"
     ]
    }
   ],
   "source": [
    "a = 2\n",
    "b = 2.0\n",
    "s = \"hello\"\n",
    "print(s[0])"
   ]
  },
  {
   "cell_type": "markdown",
   "metadata": {
    "slideshow": {
     "slide_type": "slide"
    }
   },
   "source": [
    "Use the `int`, `float`, and `str` functions to convert between types"
   ]
  },
  {
   "cell_type": "code",
   "execution_count": 4,
   "metadata": {
    "slideshow": {
     "slide_type": "fragment"
    }
   },
   "outputs": [
    {
     "name": "stdout",
     "output_type": "stream",
     "text": [
      "2\n"
     ]
    }
   ],
   "source": [
    "a = 2.00\n",
    "print(int(a))"
   ]
  },
  {
   "cell_type": "markdown",
   "metadata": {
    "slideshow": {
     "slide_type": "slide"
    }
   },
   "source": [
    "# Mathematical operations\n",
    "\n",
    "| Operation | Description | Example |\n",
    "| :-: | :-: | :-: |\n",
    "| + | Addition | 5 + 3 = 8 |\n",
    "| - | Substraction | 5 - 3 = 2 |\n",
    "| * | Multiplication | 5 * 3 = 15 |\n",
    "| / | Division | 5 / 3 = 1.666...|\n",
    "| // | Floor division (round down to an integer) | 5 // 3 = 1|\n",
    "| % | Modulo (compute remainder) | 5 % 3 = 2 |\n",
    "| ** | Exponent | 5 ** 3 = 125 |"
   ]
  },
  {
   "cell_type": "markdown",
   "metadata": {
    "slideshow": {
     "slide_type": "slide"
    }
   },
   "source": [
    "# Boolean operations\n",
    "\n",
    "| Operation | Description | Example | Value |\n",
    "| :-: | :-: | :-: | :-: |\n",
    "| == | Is equal? | 1 == 2 | False |\n",
    "| != | Is not equal? | 1 != 2 | True |\n",
    "| < | Less than? | 1 < 2 | True |\n",
    "| > | Greater than? | 1 > 2 | False |\n",
    "| <= | Less than or equal to? | 1 <= 2 | True |\n",
    "| >= | Greater than or equal to? | 1 >= 2 | False |"
   ]
  },
  {
   "cell_type": "markdown",
   "metadata": {
    "slideshow": {
     "slide_type": "slide"
    }
   },
   "source": [
    "# Logical operations\n",
    "\n",
    "| Operation | Description | Example | Value |\n",
    "| :-: | :-: | :-:| :-: |\n",
    "| and | Are both true? | 1 < 2 and 3 < 2 | False |\n",
    "| or | Is one true? | 1 < 2 or 3 < 2 | True |\n",
    "| not | Negate the conditional | not(1 < 2) | False |"
   ]
  },
  {
   "cell_type": "markdown",
   "metadata": {
    "slideshow": {
     "slide_type": "slide"
    }
   },
   "source": [
    "# Data structures\n",
    "\n",
    "| Type | Example | Characteristics |\n",
    "| :-: | :-: | :-: |\n",
    "| List | L = [1, 1.0, 'one'] | Mutable, iterable, ordered |\n",
    "| Tuple | t = (1, 1.0, 'one') | Immutable, iterable, ordered |\n",
    "| Set | s = {1, 1.0, 'one'} | Mutable, iterable, unordered, unique |\n",
    "| Dictionary | d = {'a':1, 'b':2, 'c':3} | Mutable, iterable, ordered|\n",
    "\n",
    "* **Mutable**: Can be modified\n",
    "* **Immutable**: Cannot be modified\n",
    "* **Ordered**: Elements can be accessed using an index or a key"
   ]
  },
  {
   "cell_type": "markdown",
   "metadata": {
    "slideshow": {
     "slide_type": "slide"
    }
   },
   "source": [
    "# Data structures continued\n",
    "\n",
    "* Use `list`, `tuple`, and `set` functions to convert between types\n",
    "* Elements in lists and tuples can be accessed using an integer index (starting at 0)\n",
    "* Elements in dictionaries are accessed using keys"
   ]
  },
  {
   "cell_type": "code",
   "execution_count": 5,
   "metadata": {
    "slideshow": {
     "slide_type": "fragment"
    }
   },
   "outputs": [
    {
     "name": "stdout",
     "output_type": "stream",
     "text": [
      "1\n"
     ]
    }
   ],
   "source": [
    "# create a list and print the first value\n",
    "L = [1, 2, 3]\n",
    "print(L[0])"
   ]
  },
  {
   "cell_type": "code",
   "execution_count": 6,
   "metadata": {
    "slideshow": {
     "slide_type": "fragment"
    }
   },
   "outputs": [
    {
     "name": "stdout",
     "output_type": "stream",
     "text": [
      "9.8\n"
     ]
    }
   ],
   "source": [
    "# create a dictionary of gravitational accelerations in m/s2\n",
    "g = {'Earth': 9.8, 'Mars':3.7, 'Jupiter':25}\n",
    "print(g['Earth'])"
   ]
  },
  {
   "cell_type": "markdown",
   "metadata": {
    "slideshow": {
     "slide_type": "slide"
    }
   },
   "source": [
    "# If statements\n",
    "\n",
    "* Used to make a decision in a program\n",
    "* Runs an indented block of code if a conditional statement is true"
   ]
  },
  {
   "cell_type": "code",
   "execution_count": 8,
   "metadata": {
    "slideshow": {
     "slide_type": "fragment"
    }
   },
   "outputs": [
    {
     "name": "stdout",
     "output_type": "stream",
     "text": [
      "Printing non-indented code for all values of i\n"
     ]
    }
   ],
   "source": [
    "i = 20\n",
    "\n",
    "if i < 10:\n",
    "    print(\"Doing something because i < 10 and the code is indented\")\n",
    "    \n",
    "print('Printing non-indented code for all values of i')"
   ]
  },
  {
   "cell_type": "markdown",
   "metadata": {
    "slideshow": {
     "slide_type": "slide"
    }
   },
   "source": [
    "# If-else statements\n",
    "\n",
    "* Creates two pathways, the choice depends on whether a condition is true or false"
   ]
  },
  {
   "cell_type": "code",
   "execution_count": 10,
   "metadata": {
    "slideshow": {
     "slide_type": "fragment"
    }
   },
   "outputs": [
    {
     "name": "stdout",
     "output_type": "stream",
     "text": [
      "Doing something else i >= 10\n"
     ]
    }
   ],
   "source": [
    "i = 20\n",
    "\n",
    "if i < 10:\n",
    "    print('Doing something because i < 10')\n",
    "else:\n",
    "    print('Doing something else i >= 10')"
   ]
  },
  {
   "cell_type": "markdown",
   "metadata": {
    "slideshow": {
     "slide_type": "slide"
    }
   },
   "source": [
    "# If-else-elif statements\n",
    "\n",
    "* Creates multiple pathways, the choice depends on which condition is true"
   ]
  },
  {
   "cell_type": "code",
   "execution_count": 51,
   "metadata": {
    "slideshow": {
     "slide_type": "fragment"
    }
   },
   "outputs": [
    {
     "name": "stdout",
     "output_type": "stream",
     "text": [
      "Doing something else\n"
     ]
    }
   ],
   "source": [
    "i = 20\n",
    "\n",
    "if i < 10:\n",
    "    print('Doing something because i < 10')\n",
    "elif i > 10:\n",
    "    print('Doing something else because i > 10')\n",
    "else:\n",
    "    print('Doing something different from the other two cases')"
   ]
  },
  {
   "cell_type": "markdown",
   "metadata": {
    "slideshow": {
     "slide_type": "slide"
    }
   },
   "source": [
    "# For loops\n",
    "\n",
    "* For repeating code a fixed number of times\n",
    "```python\n",
    "for e in collection:\n",
    "    # run indented code\n",
    "```\n",
    "* The indented code is run until `e` has taken on every value in `collection` (which is an iterable object like a list or tuple)"
   ]
  },
  {
   "cell_type": "code",
   "execution_count": 13,
   "metadata": {
    "slideshow": {
     "slide_type": "slide"
    }
   },
   "outputs": [
    {
     "name": "stdout",
     "output_type": "stream",
     "text": [
      "0 1 2 3 4 5 6 7 8 9 10 "
     ]
    }
   ],
   "source": [
    "# print the numbers from 0 to 10\n",
    "for i in range(11):\n",
    "    print(i, end=\" \")"
   ]
  },
  {
   "cell_type": "code",
   "execution_count": 14,
   "metadata": {
    "slideshow": {
     "slide_type": "fragment"
    }
   },
   "outputs": [
    {
     "name": "stdout",
     "output_type": "stream",
     "text": [
      "Red, Blue, Green, "
     ]
    }
   ],
   "source": [
    "# capitalise words in a list\n",
    "L = ['red', 'blue', 'green']\n",
    "for c in L:\n",
    "    print(c.capitalize(), end=\", \")"
   ]
  },
  {
   "cell_type": "markdown",
   "metadata": {
    "slideshow": {
     "slide_type": "slide"
    }
   },
   "source": [
    "# While loops\n",
    "\n",
    "* For repeating code until a condition becomes false\n",
    "```python\n",
    "while condition:\n",
    "    # run indented code\n",
    "```\n",
    "* While loops are useful when you don't know how many times to repeat code\n",
    "* Beware of infinite loops!"
   ]
  },
  {
   "cell_type": "code",
   "execution_count": 6,
   "metadata": {
    "scrolled": true,
    "slideshow": {
     "slide_type": "slide"
    }
   },
   "outputs": [
    {
     "name": "stdout",
     "output_type": "stream",
     "text": [
      "1, 4, 9, 16, 25, 36, 49, 64, 81, 100, 121, 144, 169, 196, 225, 256, 289, 324, 361, 400, 441, "
     ]
    }
   ],
   "source": [
    "# compute the square numbers that are smaller than 450\n",
    "n = 1\n",
    "\n",
    "while n**2 < 450:\n",
    "    print(n**2, end=\", \")\n",
    "    n += 1"
   ]
  },
  {
   "cell_type": "markdown",
   "metadata": {
    "slideshow": {
     "slide_type": "slide"
    }
   },
   "source": [
    "# Break and continue\n",
    "\n",
    "* `break` is used to terminate a loop\n",
    "* `continue` is used to skip an iteration in a loop"
   ]
  },
  {
   "cell_type": "code",
   "execution_count": 15,
   "metadata": {
    "slideshow": {
     "slide_type": "fragment"
    }
   },
   "outputs": [
    {
     "name": "stdout",
     "output_type": "stream",
     "text": [
      "0 1 2 3 4 5 6 7 8 9 "
     ]
    }
   ],
   "source": [
    "for i in range(10):\n",
    "    print(i, end = \" \")"
   ]
  },
  {
   "cell_type": "code",
   "execution_count": 16,
   "metadata": {
    "slideshow": {
     "slide_type": "fragment"
    }
   },
   "outputs": [
    {
     "name": "stdout",
     "output_type": "stream",
     "text": [
      "0 1 2 3 "
     ]
    }
   ],
   "source": [
    "for i in range(10):\n",
    "    if i == 4:\n",
    "        break\n",
    "    print(i, end = \" \")"
   ]
  },
  {
   "cell_type": "code",
   "execution_count": 15,
   "metadata": {
    "slideshow": {
     "slide_type": "fragment"
    }
   },
   "outputs": [
    {
     "name": "stdout",
     "output_type": "stream",
     "text": [
      "0 1 2 3 5 6 7 8 9 "
     ]
    }
   ],
   "source": [
    "for i in range(10):\n",
    "    if i == 4:\n",
    "        continue\n",
    "    print(i, end = \" \")"
   ]
  },
  {
   "cell_type": "markdown",
   "metadata": {
    "slideshow": {
     "slide_type": "slide"
    }
   },
   "source": [
    "# Functions\n",
    "\n",
    "* **Functions** are mini-programs based on a collection of code that has been given a name\n",
    "* Functions are defined using the `def` keyword\n",
    "* Function inputs are called **arguments**\n",
    "* The `return` keyword is used to output data from a function"
   ]
  },
  {
   "cell_type": "code",
   "execution_count": 17,
   "metadata": {
    "slideshow": {
     "slide_type": "fragment"
    }
   },
   "outputs": [
    {
     "name": "stdout",
     "output_type": "stream",
     "text": [
      "9\n"
     ]
    }
   ],
   "source": [
    "# add two numbers a and b together\n",
    "def my_sum(a, b):\n",
    "    c = a + b\n",
    "    return c\n",
    "\n",
    "c = my_sum(3, 6)\n",
    "print(c)"
   ]
  },
  {
   "cell_type": "markdown",
   "metadata": {
    "slideshow": {
     "slide_type": "slide"
    }
   },
   "source": [
    "# Scripts, modules, and packages\n",
    "\n",
    "* Modules are Python files (.py) that contain variables, functions, etc\n",
    "* Packages are folders (directories) that contain modules\n",
    "* Scripts are top-level Python files that import packages and modules \n",
    "* Scripts are run (e.g. in Spyder) not modules/packages"
   ]
  },
  {
   "cell_type": "markdown",
   "metadata": {
    "slideshow": {
     "slide_type": "slide"
    }
   },
   "source": [
    "A typical file structure might look like this:\n",
    "```python\n",
    "emat30008/\n",
    "|--- main.py\n",
    "|--- circle.py\n",
    "```\n",
    "where `main.py` is a script that imports the module `circle.py`"
   ]
  },
  {
   "cell_type": "markdown",
   "metadata": {
    "slideshow": {
     "slide_type": "slide"
    }
   },
   "source": [
    "# Importing modules and packages\n",
    "\n",
    "* The `import` keyword is used to load Python code from modules and packages\n",
    "* There are many ways to do this; see EMAT10007 notes for more details"
   ]
  },
  {
   "cell_type": "code",
   "execution_count": 4,
   "metadata": {
    "slideshow": {
     "slide_type": "fragment"
    }
   },
   "outputs": [
    {
     "name": "stdout",
     "output_type": "stream",
     "text": [
      "3.141592653589793\n"
     ]
    }
   ],
   "source": [
    "# import the math package\n",
    "import math\n",
    "\n",
    "# print the variable pi from the math package\n",
    "print(math.pi)"
   ]
  },
  {
   "cell_type": "markdown",
   "metadata": {
    "slideshow": {
     "slide_type": "slide"
    }
   },
   "source": [
    "# Summary\n",
    "\n",
    "These slides covered core Python functionality\n",
    "* Operations, data types, control flow, loops, functions, modules and packages"
   ]
  },
  {
   "cell_type": "markdown",
   "metadata": {
    "slideshow": {
     "slide_type": "fragment"
    }
   },
   "source": [
    "Topics not covered but which you are expected to know:\n",
    "* Variable scope (local, global), keyword and default arguments, classes, file input and output"
   ]
  }
 ],
 "metadata": {
  "celltoolbar": "Slideshow",
  "kernelspec": {
   "display_name": "Python 3",
   "language": "python",
   "name": "python3"
  },
  "language_info": {
   "codemirror_mode": {
    "name": "ipython",
    "version": 3
   },
   "file_extension": ".py",
   "mimetype": "text/x-python",
   "name": "python",
   "nbconvert_exporter": "python",
   "pygments_lexer": "ipython3",
   "version": "3.8.8"
  }
 },
 "nbformat": 4,
 "nbformat_minor": 4
}
