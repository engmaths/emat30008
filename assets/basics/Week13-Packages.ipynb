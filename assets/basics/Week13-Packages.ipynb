{
 "cells": [
  {
   "cell_type": "markdown",
   "metadata": {
    "slideshow": {
     "slide_type": "slide"
    }
   },
   "source": [
    "# Scientific Computing\n",
    "\n",
    "\n",
    "## Week 13: Recap of NumPy, SciPy, and Matplotlib\n",
    "\n",
    "### Matthew Hennessy\n",
    "\n",
    "* * *\n",
    "\n",
    "<img src=\"UoB.png\" alt=\"Bristol\" style=\"width: 300px;\"/>"
   ]
  },
  {
   "cell_type": "markdown",
   "metadata": {
    "slideshow": {
     "slide_type": "slide"
    }
   },
   "source": [
    "# NumPy\n",
    "\n",
    "* NumPy is a Python library that enables vectors and matrices to be stored as **arrays**\n",
    "\n",
    "* NumPy provides very fast mathematical functions that can operate on these arrays."
   ]
  },
  {
   "cell_type": "markdown",
   "metadata": {
    "slideshow": {
     "slide_type": "slide"
    }
   },
   "source": [
    "# Importing NumPy\n",
    "\n",
    "It is common to import NumPy using the command"
   ]
  },
  {
   "cell_type": "code",
   "execution_count": 28,
   "metadata": {},
   "outputs": [],
   "source": [
    "import numpy as np"
   ]
  },
  {
   "cell_type": "markdown",
   "metadata": {
    "slideshow": {
     "slide_type": "slide"
    }
   },
   "source": [
    "# Defining arrays\n",
    "\n",
    "* Arrays are defined using the `array` function.\n",
    "* A vector (1D array) can be created by passing a list to `array`"
   ]
  },
  {
   "cell_type": "markdown",
   "metadata": {
    "slideshow": {
     "slide_type": "fragment"
    }
   },
   "source": [
    "**Example**: Create the vector $v = (1, 2, 3)$ "
   ]
  },
  {
   "cell_type": "code",
   "execution_count": 30,
   "metadata": {
    "slideshow": {
     "slide_type": "-"
    }
   },
   "outputs": [
    {
     "name": "stdout",
     "output_type": "stream",
     "text": [
      "[1 2 3]\n"
     ]
    }
   ],
   "source": [
    "v = np.array([1, 2, 3])\n",
    "print(v)"
   ]
  },
  {
   "cell_type": "markdown",
   "metadata": {
    "slideshow": {
     "slide_type": "slide"
    }
   },
   "source": [
    "A matrix (2D array) can be created by passing a nested list to `array`, where each inner list is a row of the matrix"
   ]
  },
  {
   "cell_type": "markdown",
   "metadata": {
    "slideshow": {
     "slide_type": "fragment"
    }
   },
   "source": [
    "**Example**: Create the matrix\n",
    "$$\n",
    "M = \\begin{pmatrix} 1 & 2 \\\\ 3 & 4 \\end{pmatrix}\n",
    "$$"
   ]
  },
  {
   "cell_type": "code",
   "execution_count": 32,
   "metadata": {},
   "outputs": [
    {
     "name": "stdout",
     "output_type": "stream",
     "text": [
      "[[1 2]\n",
      " [3 4]]\n"
     ]
    }
   ],
   "source": [
    "M = np.array([ [1, 2], [3, 4] ])\n",
    "print(M)"
   ]
  },
  {
   "cell_type": "markdown",
   "metadata": {
    "slideshow": {
     "slide_type": "slide"
    }
   },
   "source": [
    "# Accessing elements\n",
    "\n",
    "* Individual elements in a 1D array can be accessed using square brackets and a numerical index\n",
    "* Indexing NumPy arrays starts at 0"
   ]
  },
  {
   "cell_type": "code",
   "execution_count": 33,
   "metadata": {
    "slideshow": {
     "slide_type": "fragment"
    }
   },
   "outputs": [
    {
     "name": "stdout",
     "output_type": "stream",
     "text": [
      "2\n"
     ]
    }
   ],
   "source": [
    "# print the second element of vector v\n",
    "print(v[1])"
   ]
  },
  {
   "cell_type": "markdown",
   "metadata": {
    "slideshow": {
     "slide_type": "slide"
    }
   },
   "source": [
    "* Use two indices separated by a comma for 2D arrays (first index = row, second index = column)"
   ]
  },
  {
   "cell_type": "code",
   "execution_count": 34,
   "metadata": {},
   "outputs": [
    {
     "name": "stdout",
     "output_type": "stream",
     "text": [
      "3\n"
     ]
    }
   ],
   "source": [
    "# print the entry in the second row, first column of M\n",
    "print(M[1, 0])"
   ]
  },
  {
   "cell_type": "markdown",
   "metadata": {
    "slideshow": {
     "slide_type": "slide"
    }
   },
   "source": [
    "# Accessing sequential elements\n",
    "\n",
    "A colon (:) can be used to access sequential elements in an array:"
   ]
  },
  {
   "cell_type": "code",
   "execution_count": 35,
   "metadata": {},
   "outputs": [
    {
     "name": "stdout",
     "output_type": "stream",
     "text": [
      "[1 2 3 4 5 6 7 8 9]\n"
     ]
    }
   ],
   "source": [
    "v = np.array([1, 2, 3, 4, 5, 6, 7, 8, 9])\n",
    "print(v[:])"
   ]
  },
  {
   "cell_type": "markdown",
   "metadata": {
    "slideshow": {
     "slide_type": "fragment"
    }
   },
   "source": [
    "The notation `v[a:b]` will access entries starting at index $a$ and ending at $b-1$"
   ]
  },
  {
   "cell_type": "code",
   "execution_count": 36,
   "metadata": {},
   "outputs": [
    {
     "name": "stdout",
     "output_type": "stream",
     "text": [
      "[3 4 5]\n"
     ]
    }
   ],
   "source": [
    "# print the third to fifth entries\n",
    "print(v[2:5])"
   ]
  },
  {
   "cell_type": "markdown",
   "metadata": {
    "slideshow": {
     "slide_type": "slide"
    }
   },
   "source": [
    "# Some useful functions for creating arrays\n",
    "\n",
    "* `linspace(a, b, N)` creates a 1D array with $N$ uniformly spaced entries between $a$ and $b$ (inclusive)\n",
    "* `eye(N)` creates the $N \\times N$ identity matrix\n",
    "* `ones(dims)` creates arrays filled with ones, where `dims` is a tuple of integers that describes the dimensions of the array\n",
    "* `zeros(dims)` creates arrays filled with zeros\n",
    "* `random.random(dims)` creates an array with random numbers between 0 and 1 from a uniform distribution"
   ]
  },
  {
   "cell_type": "markdown",
   "metadata": {
    "slideshow": {
     "slide_type": "slide"
    }
   },
   "source": [
    "# Operations on NumPy arrays\n",
    "\n",
    "Many mathematical operations can be performed immediately\n",
    "\n",
    "* `+` and `-`: element-by-element addition and subtraction\n",
    "* `*`: scalar multiplication or element-by-element multiplication\n",
    "* `dot(a,b)`: dot product of two 1D arrays `a` and `b`\n",
    "* `@`: matrix multiplication"
   ]
  },
  {
   "cell_type": "markdown",
   "metadata": {
    "slideshow": {
     "slide_type": "slide"
    }
   },
   "source": [
    "NumPy comes with mathematical functions that can operate on arrays (e.g. trig functions, exp, log)\n",
    "* `np.sin(x)`: applies the sin function to each element of `x`"
   ]
  },
  {
   "cell_type": "markdown",
   "metadata": {
    "slideshow": {
     "slide_type": "slide"
    }
   },
   "source": [
    "# Linear algebra with NumPy\n",
    "\n",
    "The `linalg` module of NumPy has functions for linear algebra.  For example:\n",
    "\n",
    "* `linalg.solve(A,b)`: Solve a linear system of equations of the form $Ax = b$\n",
    "* `linalg.det(A)`: Compute determinants of $A$\n",
    "* `linalg.inv(A)`: Compute the inverse of $A$, ie $A^{-1}$\n",
    "* `linalg.eig(A)`: Compute the eigenvalues and eigenvectors of $A$\n"
   ]
  },
  {
   "cell_type": "markdown",
   "metadata": {
    "slideshow": {
     "slide_type": "slide"
    }
   },
   "source": [
    "# SciPy\n",
    "\n",
    "Is a Python package that contains functions for a wide range of mathematical problems\n",
    "\n",
    "* Special functions, e.g. Bessel functions\n",
    "* Solving nonlinear equations\n",
    "* Optimisation\n",
    "* Interpolation\n",
    "* Integration (including solving ODEs)\n",
    "* Linear algebra (including sparse linear algebra)\n",
    "* and more"
   ]
  },
  {
   "cell_type": "markdown",
   "metadata": {
    "slideshow": {
     "slide_type": "slide"
    }
   },
   "source": [
    "The SciPy package is imported using the code"
   ]
  },
  {
   "cell_type": "code",
   "execution_count": 37,
   "metadata": {
    "slideshow": {
     "slide_type": "-"
    }
   },
   "outputs": [],
   "source": [
    "import scipy"
   ]
  },
  {
   "cell_type": "markdown",
   "metadata": {
    "slideshow": {
     "slide_type": "fragment"
    }
   },
   "source": [
    "In this unit, we will be solving nonlinear algebraic equations and differential equations\n",
    "* `scipy.optimize.root` solves algebraic equations\n",
    "* `scipy.integrate.solve_ivp` solves initial value problems using various methods (e.g. RK45)"
   ]
  },
  {
   "cell_type": "markdown",
   "metadata": {
    "slideshow": {
     "slide_type": "slide"
    }
   },
   "source": [
    "# Matplotlib\n",
    "\n",
    "* Used for visualising data in Python (eg creating plots)\n",
    "* Works well with NumPy\n"
   ]
  },
  {
   "cell_type": "markdown",
   "metadata": {
    "slideshow": {
     "slide_type": "fragment"
    }
   },
   "source": [
    "Usually imported using"
   ]
  },
  {
   "cell_type": "code",
   "execution_count": 38,
   "metadata": {},
   "outputs": [],
   "source": [
    "import matplotlib.pyplot as plt"
   ]
  },
  {
   "cell_type": "markdown",
   "metadata": {
    "slideshow": {
     "slide_type": "slide"
    }
   },
   "source": [
    "# A basic example\n",
    "\n",
    "Plot $y = \\sin(x)$ from $x = 0$ to $x = 2\\pi$"
   ]
  },
  {
   "cell_type": "code",
   "execution_count": 39,
   "metadata": {
    "slideshow": {
     "slide_type": "fragment"
    }
   },
   "outputs": [
    {
     "data": {
      "image/png": "[encoded data removed]",
      "text/plain": [
       "<Figure size 432x288 with 1 Axes>"
      ]
     },
     "metadata": {
      "needs_background": "light"
     },
     "output_type": "display_data"
    }
   ],
   "source": [
    "x = np.linspace(0, 2 * np.pi, 100)\n",
    "y = np.sin(x)\n",
    "\n",
    "plt.plot(x, y)\n",
    "plt.show()"
   ]
  },
  {
   "cell_type": "markdown",
   "metadata": {
    "slideshow": {
     "slide_type": "slide"
    }
   },
   "source": [
    "* There are many options that can edited to make figures look nicer\n",
    "* There are also many different styles of figures (e.g. contour plots, scatter plots)\n",
    "* See https://github.com/rougier/matplotlib-tutorial for a good overview of the options"
   ]
  },
  {
   "cell_type": "code",
   "execution_count": 9,
   "metadata": {
    "scrolled": true,
    "slideshow": {
     "slide_type": "slide"
    }
   },
   "outputs": [
    {
     "data": {
      "image/png": "[encoded data removed]",
      "text/plain": [
       "<Figure size 432x288 with 1 Axes>"
      ]
     },
     "metadata": {
      "needs_background": "light"
     },
     "output_type": "display_data"
    }
   ],
   "source": [
    "# use latex fonts and use a fontsize of 16 everywhere\n",
    "plt.rcParams.update({\"text.usetex\": True, \"font.size\": 16})\n",
    "\n",
    "# plot\n",
    "plt.plot(x, y, linewidth=2, color='black')\n",
    "\n",
    "# add labels to the axes\n",
    "plt.xlabel(r'$x$')\n",
    "plt.ylabel(r'$\\sin(x)$')\n",
    "\n",
    "# show the plot\n",
    "plt.show()"
   ]
  },
  {
   "cell_type": "markdown",
   "metadata": {
    "slideshow": {
     "slide_type": "slide"
    }
   },
   "source": [
    "# Summary\n",
    "\n",
    "* NumPy provides functionality for storing numerical data as arrays and performing operations on these\n",
    "* SciPy contains functions for solving a wide variety of mathematical problems\n",
    "* Matplotlib is for visualising data"
   ]
  }
 ],
 "metadata": {
  "celltoolbar": "Slideshow",
  "kernelspec": {
   "display_name": "Python 3",
   "language": "python",
   "name": "python3"
  },
  "language_info": {
   "codemirror_mode": {
    "name": "ipython",
    "version": 3
   },
   "file_extension": ".py",
   "mimetype": "text/x-python",
   "name": "python",
   "nbconvert_exporter": "python",
   "pygments_lexer": "ipython3",
   "version": "3.8.8"
  }
 },
 "nbformat": 4,
 "nbformat_minor": 4
}
